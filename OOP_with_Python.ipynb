{
 "cells": [
  {
   "cell_type": "markdown",
   "metadata": {
    "toc": true
   },
   "source": [
    "<h1>Table of Contents<span class=\"tocSkip\"></span></h1>\n",
    "<div class=\"toc\"><ul class=\"toc-item\"><li><span><a href=\"#self-parameter-and-objects\" data-toc-modified-id=\"self-parameter-and-objects-1\">self parameter and objects</a></span></li><li><span><a href=\"#multiple-inheritance\" data-toc-modified-id=\"multiple-inheritance-2\">multiple inheritance</a></span></li><li><span><a href=\"#Multilevel-inheritance\" data-toc-modified-id=\"Multilevel-inheritance-3\">Multilevel inheritance</a></span></li><li><span><a href=\"#Herarchical-inheritance\" data-toc-modified-id=\"Herarchical-inheritance-4\">Herarchical inheritance</a></span></li><li><span><a href=\"#Hybrid-inheritance\" data-toc-modified-id=\"Hybrid-inheritance-5\">Hybrid inheritance</a></span></li><li><span><a href=\"#polymorphism\" data-toc-modified-id=\"polymorphism-6\">polymorphism</a></span></li><li><span><a href=\"#Encapsulation\" data-toc-modified-id=\"Encapsulation-7\">Encapsulation</a></span></li><li><span><a href=\"#abstraction\" data-toc-modified-id=\"abstraction-8\">abstraction</a></span></li><li><span><a href=\"#function-overloading\" data-toc-modified-id=\"function-overloading-9\">function overloading</a></span></li><li><span><a href=\"#Super-keyword\" data-toc-modified-id=\"Super-keyword-10\">Super keyword</a></span></li></ul></div>"
   ]
  },
  {
   "cell_type": "markdown",
   "metadata": {},
   "source": [
    "### self parameter and objects"
   ]
  },
  {
   "cell_type": "code",
   "execution_count": 2,
   "metadata": {
    "colab": {
     "base_uri": "https://localhost:8080/"
    },
    "id": "KQG1ys6_lEFT",
    "outputId": "0f32992f-9533-448b-90de-10ec6d46b330"
   },
   "outputs": [
    {
     "name": "stdout",
     "output_type": "stream",
     "text": [
      "30000\n",
      "50000\n"
     ]
    }
   ],
   "source": [
    "# self parameter and objects\n",
    "class mobile:\n",
    "    def __init__(self,price=20000):\n",
    "        self.p=price\n",
    "\n",
    "    def show(self,cost=30000):\n",
    "        # print(self.p)  \n",
    "        print(cost)\n",
    "\n",
    "obj=mobile()\n",
    "obj1=mobile()\n",
    "\n",
    "obj.show() #30,000   \n",
    "obj1.show(cost=50000) #50,000"
   ]
  },
  {
   "cell_type": "code",
   "execution_count": 3,
   "metadata": {
    "colab": {
     "base_uri": "https://localhost:8080/"
    },
    "id": "vjs7VeuH1Cjw",
    "outputId": "373cce00-7fc7-4ff5-c27e-b420a82483a6"
   },
   "outputs": [
    {
     "name": "stdout",
     "output_type": "stream",
     "text": [
      "quantity is 20 and the price is 20000 \n",
      "class A contains this data\n",
      "\n",
      "This is B class inherit from A class\n"
     ]
    }
   ],
   "source": [
    "#  single level inheritance (only one base class and only one derived class)\n",
    "class A:\n",
    "    def __init__(self,quantity,price):\n",
    "        self.q=quantity\n",
    "        self.p=price\n",
    "    def data(self):\n",
    "        print(\"class A contains this data\")\n",
    "\n",
    "class B(A):\n",
    "    def show(self):\n",
    "        print('quantity is {0} and the price is {1} '.format(self.q,self.p))\n",
    "    def detail(self):\n",
    "        print('\\nThis is B class inherit from A class')\n",
    "\n",
    "\n",
    "obj=B(20,20000)\n",
    "obj.show()   \n",
    "obj.data()\n",
    "obj.detail()"
   ]
  },
  {
   "cell_type": "markdown",
   "metadata": {},
   "source": [
    "### multiple inheritance"
   ]
  },
  {
   "cell_type": "code",
   "execution_count": 5,
   "metadata": {
    "colab": {
     "base_uri": "https://localhost:8080/"
    },
    "id": "XRKfV9M8q4wa",
    "outputId": "38a43498-d340-4a2f-c728-1ffd062d72e1"
   },
   "outputs": [
    {
     "name": "stdout",
     "output_type": "stream",
     "text": [
      "quantity is 20 and the price is 20000 \n",
      "price of one product is :  1000.0\n",
      "\n",
      "This is C class inherit from A and B classes\n"
     ]
    }
   ],
   "source": [
    "# multiple inheritance (when derived class contains more than one base class)\n",
    "\n",
    "class A:\n",
    "    def __init__(self,quantity,price):\n",
    "        self.q=quantity\n",
    "        self.p=price\n",
    "\n",
    "class B:\n",
    "    def price_per_product(self):\n",
    "        self.result=(self.p)/(self.q)  \n",
    "        print('price of one product is : ',self.result)\n",
    "\n",
    "\n",
    "class C(A,B):\n",
    "    def show(self):\n",
    "        print('quantity is {0} and the price is {1} '.format(self.q,self.p))\n",
    "        self.price_per_product()\n",
    "    def detail(self):\n",
    "        print('\\nThis is C class inherit from A and B classes')\n",
    "\n",
    "obj=C(20,20000)\n",
    "obj.show()  \n",
    "obj.detail()\n"
   ]
  },
  {
   "cell_type": "markdown",
   "metadata": {},
   "source": [
    "### Multilevel inheritance"
   ]
  },
  {
   "cell_type": "code",
   "execution_count": 6,
   "metadata": {
    "colab": {
     "base_uri": "https://localhost:8080/"
    },
    "id": "rF2KxChq_az-",
    "outputId": "9a4fca95-fca4-463c-c478-5de8c750417d"
   },
   "outputs": [
    {
     "name": "stdout",
     "output_type": "stream",
     "text": [
      "quantity is 20 and the price is 20000 \n",
      "price of one product is :  1000.0\n",
      "\n",
      "C class is derived from B class and B class is derived from A class\n",
      "\n",
      "This contains some massage\n"
     ]
    }
   ],
   "source": [
    "# Multilevel inheritance (A derived class derived from the base class and that base class also derived from the another base class)\n",
    "# A->B->C\n",
    "\n",
    "class A:\n",
    "    def __init__(self,quantity,price):\n",
    "        self.q=quantity\n",
    "        self.p=price\n",
    "    def massage(self):\n",
    "        print('\\nThis contains some massage') \n",
    "\n",
    "class B(A):\n",
    "    def price_per_product(self):\n",
    "        self.result=(self.p)/(self.q)  \n",
    "        print('price of one product is : ',self.result)\n",
    "\n",
    "\n",
    "class C(B):\n",
    "    def show(self):\n",
    "        print('quantity is {0} and the price is {1} '.format(self.q,self.p))\n",
    "        self.price_per_product()\n",
    "    def detail(self):\n",
    "        print('\\nC class is derived from B class and B class is derived from A class')\n",
    "\n",
    "obj=C(20,20000)\n",
    "obj.show()  \n",
    "obj.detail()\n",
    "obj.massage()"
   ]
  },
  {
   "cell_type": "markdown",
   "metadata": {},
   "source": [
    "### Herarchical inheritance"
   ]
  },
  {
   "cell_type": "code",
   "execution_count": 10,
   "metadata": {
    "colab": {
     "base_uri": "https://localhost:8080/"
    },
    "id": "e7p28jmhCTpY",
    "outputId": "fd98e5ca-c53f-40cc-8472-2fb866310cd3"
   },
   "outputs": [
    {
     "name": "stdout",
     "output_type": "stream",
     "text": [
      "quantity is 20 and the price is 20000 \n",
      "B class derived from A class\n",
      "\n",
      "price of one product is :  900.0\n",
      "C class derived from A class\n",
      "\n",
      "This massage is from A and deliever to C\n"
     ]
    }
   ],
   "source": [
    "# Herarchical inheritance (A base class contains more than one derived classes)\n",
    "# father-> child1 and child2\n",
    "\n",
    "\n",
    "class A:\n",
    "    def __init__(self,quantity,price):\n",
    "        self.q=quantity\n",
    "        self.p=price\n",
    "    def massage_for_C(self):\n",
    "        print(\"\\nThis massage is from A and deliever to C\")  \n",
    "\n",
    "class B(A):\n",
    "    def show_value(self):\n",
    "        print('quantity is {0} and the price is {1} '.format(self.q,self.p))\n",
    "        print(\"B class derived from A class\")\n",
    "   \n",
    "class C(A):\n",
    "    def price_per_product(self):\n",
    "        self.result=(self.p)/(self.q)  \n",
    "        print('price of one product is : ',self.result)\n",
    "        print(\"C class derived from A class\")\n",
    "\n",
    "obj1=B(20,20000)\n",
    "obj1.show_value()\n",
    "print()\n",
    "obj2=C(50,45000)\n",
    "obj2.price_per_product()\n",
    "obj2.massage_for_C()"
   ]
  },
  {
   "cell_type": "markdown",
   "metadata": {},
   "source": [
    "### Hybrid inheritance"
   ]
  },
  {
   "cell_type": "code",
   "execution_count": 11,
   "metadata": {
    "colab": {
     "base_uri": "https://localhost:8080/"
    },
    "id": "4ebfBQQRTd9O",
    "outputId": "1919c5a3-c79d-4acc-e6d8-139fea022e03"
   },
   "outputs": [
    {
     "name": "stdout",
     "output_type": "stream",
     "text": [
      "quantity is 20 and the price is 20000 \n",
      "price of one product is :  1000.0\n",
      "product company sumsang and product type mobile\n",
      "\n",
      "This is an example of hybrid inheritance\n",
      "\n",
      "This massage is directly deliever from A class\n"
     ]
    }
   ],
   "source": [
    "# Hybrid inheritance (Combination of multiple + multilevel)\n",
    "class A:\n",
    "    def __init__(self,quantity,price):\n",
    "        self.q=quantity\n",
    "        self.p=price\n",
    "    def direct(self):\n",
    "        print(\"\\nThis massage is directly deliever from A class\") \n",
    "class B(A):\n",
    "    def show_values(self):\n",
    "        print('quantity is {0} and the price is {1} '.format(self.q,self.p))\n",
    "  \n",
    "class C:\n",
    "    def product_deliever(self):\n",
    "        self.product_company=\"sumsang\"\n",
    "        self.product_type=\"mobile\"\n",
    "        print('product company {0} and product type {1}'.format(self.product_company,self.product_type))\n",
    "\n",
    "     \n",
    "class final(B,C):\n",
    "    def price_per_product(self):\n",
    "        self.result=(self.p)/(self.q)  \n",
    "        print('price of one product is : ',self.result)\n",
    "    def final_show(self):\n",
    "        self.show_values()\n",
    "    def example(self):   \n",
    "        print('\\nThis is an example of hybrid inheritance')\n",
    "\n",
    "\n",
    "obj=final(20,20000)\n",
    "obj.final_show()\n",
    "obj.price_per_product()\n",
    "obj.product_deliever()\n",
    "obj.example()\n",
    "obj.direct()"
   ]
  },
  {
   "cell_type": "markdown",
   "metadata": {},
   "source": [
    "### polymorphism"
   ]
  },
  {
   "cell_type": "code",
   "execution_count": 12,
   "metadata": {
    "colab": {
     "base_uri": "https://localhost:8080/"
    },
    "id": "HxzacKLOammO",
    "outputId": "f10866b8-60f0-414d-e887-175a3259e555"
   },
   "outputs": [
    {
     "name": "stdout",
     "output_type": "stream",
     "text": [
      "8\n",
      "3\n",
      "5\n",
      "9\n"
     ]
    }
   ],
   "source": [
    "# polymorphism ( The word polymorphism means having many forms. In programming,\n",
    "#  polymorphism means the same function name (but different signatures) being used for different types.)\n",
    "\n",
    "# https://www.geeksforgeeks.org/polymorphism-in-python/\n",
    "\n",
    "# Example\n",
    " \n",
    "# len() being used for a string\n",
    "print(len(\"programe\"))\n",
    " \n",
    "# len() being used for a list\n",
    "print(len([10, 20, 30]))\n",
    "\n",
    "# Example user define\n",
    "\n",
    "def add(x, y, z = 0):\n",
    "    return x + y+z\n",
    " \n",
    "# Driver code\n",
    "print(add(2, 3))\n",
    "print(add(2, 3, 4))"
   ]
  },
  {
   "cell_type": "code",
   "execution_count": 13,
   "metadata": {
    "colab": {
     "base_uri": "https://localhost:8080/"
    },
    "id": "ilIjC2tRAtCX",
    "outputId": "694765e5-f02a-474f-d9c9-0f8a795e7d3a"
   },
   "outputs": [
    {
     "name": "stdout",
     "output_type": "stream",
     "text": [
      "there is 8 rooms in home\n",
      "the home contain 2 floors\n",
      "there is 20 rooms in school\n",
      "there is 3 floors in school\n"
     ]
    }
   ],
   "source": [
    "# polymorphism in clases\n",
    "\n",
    "class home:\n",
    "    def rooms(self):\n",
    "        print(\"there is 8 rooms in home\")\n",
    "    def floors(self):\n",
    "        print(\"the home contain 2 floors\")\n",
    "\n",
    "class school:\n",
    "    def rooms(self):\n",
    "        print(\"there is 20 rooms in school\")   \n",
    "    def floors(self):\n",
    "        print(\"there is 3 floors in school\")\n",
    "\n",
    "\n",
    "# obj1=home()\n",
    "# obj2=school()\n",
    "\n",
    "# for building in obj1,obj2:\n",
    "#    building.rooms()\n",
    "#    building.floors()   \n",
    "\n",
    "# with functions\n",
    "\n",
    "def func(obj):\n",
    "    obj.rooms()\n",
    "    obj.floors()   \n",
    "\n",
    "obj1=home()\n",
    "obj2=school()\n",
    "\n",
    "func(obj1)\n",
    "func(obj2)"
   ]
  },
  {
   "cell_type": "code",
   "execution_count": 27,
   "metadata": {
    "colab": {
     "base_uri": "https://localhost:8080/"
    },
    "id": "z9uR1IfVC8nB",
    "outputId": "7e512ea7-856f-4de5-9452-834c114c602d"
   },
   "outputs": [
    {
     "name": "stdout",
     "output_type": "stream",
     "text": [
      "There are many types of birds.\n",
      "Most of the birds can fly but some cannot.\n",
      "There are many types of birds.\n",
      "Sparrows can fly.\n",
      "There are many types of birds.\n",
      "Ostriches cannot fly.\n"
     ]
    }
   ],
   "source": [
    "class Bird:\n",
    "    def intro(self):\n",
    "        print(\"There are many types of birds.\")\n",
    "     \n",
    "    def flight(self):\n",
    "        print(\"Most of the birds can fly but some cannot.\")\n",
    "   \n",
    "class sparrow(Bird):\n",
    "    def flight(self):\n",
    "        print(\"Sparrows can fly.\")\n",
    "     \n",
    "class ostrich(Bird):\n",
    "    def flight(self):\n",
    "        print(\"Ostriches cannot fly.\")\n",
    "     \n",
    "obj_bird = Bird()\n",
    "obj_spr = sparrow()\n",
    "obj_ost = ostrich()\n",
    " \n",
    "obj_bird.intro()\n",
    "obj_bird.flight()\n",
    " \n",
    "obj_spr.intro()\n",
    "obj_spr.flight()\n",
    " \n",
    "obj_ost.intro()\n",
    "obj_ost.flight()"
   ]
  },
  {
   "cell_type": "markdown",
   "metadata": {},
   "source": [
    "### Encapsulation"
   ]
  },
  {
   "cell_type": "code",
   "execution_count": 16,
   "metadata": {
    "colab": {
     "base_uri": "https://localhost:8080/"
    },
    "id": "ACPwKulxEUam",
    "outputId": "f86911f0-6bf4-4826-b289-31f77de9e523"
   },
   "outputs": [
    {
     "name": "stdout",
     "output_type": "stream",
     "text": [
      "Calling protected member of base class: \n",
      "2\n"
     ]
    },
    {
     "ename": "AttributeError",
     "evalue": "'Base' object has no attribute 'a'",
     "output_type": "error",
     "traceback": [
      "\u001b[1;31m---------------------------------------------------------------------------\u001b[0m",
      "\u001b[1;31mAttributeError\u001b[0m                            Traceback (most recent call last)",
      "\u001b[1;32m<ipython-input-16-e758883c76e1>\u001b[0m in \u001b[0;36m<module>\u001b[1;34m\u001b[0m\n\u001b[0;32m     26\u001b[0m \u001b[1;31m# Outside class will result in\u001b[0m\u001b[1;33m\u001b[0m\u001b[1;33m\u001b[0m\u001b[1;33m\u001b[0m\u001b[0m\n\u001b[0;32m     27\u001b[0m \u001b[1;31m# AttributeError\u001b[0m\u001b[1;33m\u001b[0m\u001b[1;33m\u001b[0m\u001b[1;33m\u001b[0m\u001b[0m\n\u001b[1;32m---> 28\u001b[1;33m \u001b[0mprint\u001b[0m\u001b[1;33m(\u001b[0m\u001b[0mobj2\u001b[0m\u001b[1;33m.\u001b[0m\u001b[0ma\u001b[0m\u001b[1;33m)\u001b[0m \u001b[1;31m# cannot be access outside from the class becuase it is protected\u001b[0m\u001b[1;33m\u001b[0m\u001b[1;33m\u001b[0m\u001b[0m\n\u001b[0m",
      "\u001b[1;31mAttributeError\u001b[0m: 'Base' object has no attribute 'a'"
     ]
    }
   ],
   "source": [
    "# Encapsulation (it is used to define the scope or accessibility of the variables and methods)\n",
    "\n",
    "#for Protected member\n",
    "\n",
    "# Creating a base class\n",
    "class Base:\n",
    "\tdef __init__(self):\n",
    "\t\t\n",
    "\t\t# Protected member\n",
    "\t\tself._a = 2\n",
    "\n",
    "# Creating a derived class\n",
    "class Derived(Base):\n",
    "\tdef __init__(self):\n",
    "\t\t\n",
    "\t\t# Calling constructor of\n",
    "\t\t# Base class\n",
    "\t\tBase.__init__(self)\n",
    "\t\tprint(\"Calling protected member of base class: \")\n",
    "\t\tprint(self._a)\n",
    "\n",
    "obj1 = Derived()\n",
    "\t\t\n",
    "obj2 = Base()\n",
    "\n",
    "# Calling protected member\n",
    "# Outside class will result in\n",
    "# AttributeError\n",
    "print(obj2.a) # cannot be access outside from the class becuase it is protected\n"
   ]
  },
  {
   "cell_type": "code",
   "execution_count": 25,
   "metadata": {
    "colab": {
     "base_uri": "https://localhost:8080/"
    },
    "id": "f9QMBNYb5dH4",
    "outputId": "b9018c69-4141-4937-e900-067f8c9686cd"
   },
   "outputs": [
    {
     "name": "stdout",
     "output_type": "stream",
     "text": [
      "programming\n"
     ]
    }
   ],
   "source": [
    "# for private\n",
    "\n",
    "# Creating a Base class\n",
    "\n",
    "class Base:\n",
    "    def __init__(self):\n",
    "        self.a = \"programming\"\n",
    "        self.__c = \"notebook\"  # __ is used to create private variable\n",
    " \n",
    "# Creating a derived class\n",
    "\n",
    "class Derived(Base):\n",
    "    def __init__(self):\n",
    "         \n",
    "        # Calling constructor of\n",
    "        # Base class\n",
    "        Base.__init__(self)\n",
    "        print(\"Calling private member of base class: \")\n",
    "        print(self.__c)\n",
    "# Driver code\n",
    "obj1 = Base()\n",
    "print(obj1.a)\n",
    "\n",
    "# Uncommenting print(obj1.c) will\n",
    "# raise an AttributeError\n",
    " \n",
    "# Uncommenting obj2 = Derived() will\n",
    "# also raise an AtrributeError as\n",
    "# private member of base class\n",
    "# is called inside derived class"
   ]
  },
  {
   "cell_type": "code",
   "execution_count": 117,
   "metadata": {
    "id": "HDszB_Jo6c1h"
   },
   "outputs": [],
   "source": [
    "# Python’s private and protected member can be accessed outside the class through python name mangling."
   ]
  },
  {
   "cell_type": "markdown",
   "metadata": {},
   "source": [
    "### abstraction"
   ]
  },
  {
   "cell_type": "code",
   "execution_count": 18,
   "metadata": {
    "colab": {
     "base_uri": "https://localhost:8080/"
    },
    "id": "hJYF4iVl6eby",
    "outputId": "e48b0aa9-33d3-4ee9-e074-459d2ab932b3"
   },
   "outputs": [
    {
     "name": "stdout",
     "output_type": "stream",
     "text": [
      "I have 3 sides\n",
      "I have 4 sides\n",
      "I have 5 sides\n",
      "I have 6 sides\n"
     ]
    }
   ],
   "source": [
    "# abstraction (it is blue print. An abstract method a have defination but not implementation (its impelementation\n",
    "# in subclasses). An abstract class is a class having one or more abstract method and an abstract method must define \n",
    "# inside the abstract class. An abstract class have no object or we cannot create the object of  abstract class)\n",
    "\n",
    "# https://www.geeksforgeeks.org/abstract-classes-in-python/\n",
    "# https://www.linkedin.com/pulse/abstraction-python-m-umar/\n",
    "\n",
    "\n",
    "# abstract base class work\n",
    "\n",
    "from abc import ABC, abstractmethod\n",
    "\n",
    "class Polygon(ABC):\n",
    "\n",
    "\t@abstractmethod\n",
    "\tdef noofsides(self):\n",
    "\t\tpass\n",
    "\n",
    "class Triangle(Polygon):\n",
    "\n",
    "\t# overriding abstract method\n",
    "\tdef noofsides(self):\n",
    "\t\tprint(\"I have 3 sides\")\n",
    "\n",
    "class Pentagon(Polygon):\n",
    "\n",
    "\t# overriding abstract method\n",
    "\tdef noofsides(self):\n",
    "\t\tprint(\"I have 5 sides\")\n",
    "\n",
    "class Hexagon(Polygon):\n",
    "\n",
    "\t# overriding abstract method\n",
    "\tdef noofsides(self):\n",
    "\t\tprint(\"I have 6 sides\")\n",
    "\n",
    "class Quadrilateral(Polygon):\n",
    "\n",
    "\t# overriding abstract method\n",
    "\tdef noofsides(self):\n",
    "\t\tprint(\"I have 4 sides\")\n",
    "\n",
    "# Driver code\n",
    "R = Triangle()\n",
    "R.noofsides()\n",
    "\n",
    "K = Quadrilateral()\n",
    "K.noofsides()\n",
    "\n",
    "R = Pentagon()\n",
    "R.noofsides()\n",
    "\n",
    "K = Hexagon()\n",
    "K.noofsides()\n"
   ]
  },
  {
   "cell_type": "markdown",
   "metadata": {},
   "source": [
    "### function overloading"
   ]
  },
  {
   "cell_type": "code",
   "execution_count": 19,
   "metadata": {
    "colab": {
     "base_uri": "https://localhost:8080/"
    },
    "id": "lpW_D07OVazH",
    "outputId": "b722710a-3cbf-4978-d836-e7c7db6c839f"
   },
   "outputs": [
    {
     "name": "stdout",
     "output_type": "stream",
     "text": [
      "12\n",
      "17.204\n"
     ]
    }
   ],
   "source": [
    "# function overloading \n",
    "# python does not support function over loading by default\n",
    "\n",
    "# we can achieve this with multipledispatch\n",
    "# !pip install multipledispatch\n",
    "from multipledispatch import dispatch\n",
    "\n",
    "#passing one parameter\n",
    "@dispatch(int,int)\n",
    "def product(first,second):\n",
    "\tresult = first*second\n",
    "\tprint(result);\n",
    "\n",
    "#passing two parameters\n",
    "@dispatch(int,int,int)\n",
    "def product(first,second,third):\n",
    "\tresult = first * second * third\n",
    "\tprint(result);\n",
    "\n",
    "#you can also pass data type of any value as per requirement\n",
    "@dispatch(float,float,float)\n",
    "def product(first,second,third):\n",
    "\tresult = first * second * third\n",
    "\tprint(result);\n",
    "\n",
    "\n",
    "#calling product method with 2 arguments\n",
    "product(2,3,2) #this will give output of 12\n",
    "product(2.2,3.4,2.3) # this will give output of 17.985999999999997\n"
   ]
  },
  {
   "cell_type": "markdown",
   "metadata": {
    "id": "BfC27Jp0kyTk"
   },
   "source": [
    "### Super keyword"
   ]
  },
  {
   "cell_type": "code",
   "execution_count": 21,
   "metadata": {
    "colab": {
     "base_uri": "https://localhost:8080/"
    },
    "id": "KjNkoT9vu5CF",
    "outputId": "99aaf31c-8f6d-490a-b2bd-aeed4d289ac9"
   },
   "outputs": [
    {
     "name": "stdout",
     "output_type": "stream",
     "text": [
      "30\n",
      "200\n"
     ]
    }
   ],
   "source": [
    "# class parent:\n",
    "#   def __init__(self,name):\n",
    "#     print('Parent __init__',name)\n",
    "\n",
    "#   def a1(self,a=\"abc\"):\n",
    "#     self.a=a\n",
    "#     print(self.a)\n",
    "# class child1(parent):\n",
    "#   def __init__(self):\n",
    "#     # super().__init__(\"max\")\n",
    "#     self.a1()\n",
    "#     print(\"child __init__\")\n",
    "\n",
    "# child=child1()\n",
    "# print(child1.__mro__)        \n",
    "\n",
    "# **********\n",
    "\n",
    "# class A:\n",
    "#   def result123(self,a,b):\n",
    "#     self.a=a\n",
    "#     self.b=b \n",
    "#     print(self.a+self.b)\n",
    "# class B(A):\n",
    "#   def result(self,a,b):\n",
    "#     self.a=a\n",
    "#     self.b=b \n",
    "#     self.result123(10,20)\n",
    "#     print(self.a*self.b)\n",
    "\n",
    "# obj=B()\n",
    "# obj.result(10,20)    \n",
    "\n",
    "\n",
    "# use of super (super() is used to access the methods of parent class the main usage is when we have same method name in \n",
    "#  parent class and sub class like constructor and or any other function with same name)\n",
    "class A:\n",
    "    def result(self,a,b):\n",
    "        self.a=a\n",
    "        self.b=b \n",
    "        print(self.a+self.b)\n",
    "\n",
    "class B(A):\n",
    "    def result(self,a,b):\n",
    "        self.a=a\n",
    "        self.b=b \n",
    "        super().result(10,20)\n",
    "        print(self.a*self.b)\n",
    "\n",
    "obj=B()\n",
    "obj.result(10,20)    "
   ]
  },
  {
   "cell_type": "code",
   "execution_count": 24,
   "metadata": {
    "colab": {
     "base_uri": "https://localhost:8080/"
    },
    "id": "uRg-AZeXho0q",
    "outputId": "ae22df1a-eba2-4149-a4db-7dca6eaf405f"
   },
   "outputs": [
    {
     "name": "stdout",
     "output_type": "stream",
     "text": [
      "30\n",
      "200\n"
     ]
    }
   ],
   "source": [
    "# The methods with different name in parent and subclass can be access without super().\n",
    "class A:\n",
    "    def result123(self,a,b):\n",
    "        self.a=a\n",
    "        self.b=b \n",
    "        print(self.a+self.b)\n",
    "\n",
    "class B(A):\n",
    "    def result(self,a,b):\n",
    "        self.a=a\n",
    "        self.b=b \n",
    "        self.result123(10,20)\n",
    "        print(self.a*self.b)\n",
    "\n",
    "obj=B()\n",
    "obj.result(10,20)   "
   ]
  }
 ],
 "metadata": {
  "colab": {
   "collapsed_sections": [],
   "name": "OOP with Python.ipynb",
   "provenance": []
  },
  "kernelspec": {
   "display_name": "Python 3",
   "language": "python",
   "name": "python3"
  },
  "language_info": {
   "codemirror_mode": {
    "name": "ipython",
    "version": 3
   },
   "file_extension": ".py",
   "mimetype": "text/x-python",
   "name": "python",
   "nbconvert_exporter": "python",
   "pygments_lexer": "ipython3",
   "version": "3.8.5"
  },
  "toc": {
   "base_numbering": 1,
   "nav_menu": {},
   "number_sections": false,
   "sideBar": true,
   "skip_h1_title": false,
   "title_cell": "Table of Contents",
   "title_sidebar": "Contents",
   "toc_cell": true,
   "toc_position": {},
   "toc_section_display": true,
   "toc_window_display": false
  }
 },
 "nbformat": 4,
 "nbformat_minor": 1
}
